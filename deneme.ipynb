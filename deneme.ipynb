{
 "cells": [
  {
   "cell_type": "code",
   "execution_count": 1,
   "metadata": {},
   "outputs": [
    {
     "name": "stdout",
     "output_type": "stream",
     "text": [
      "30\n"
     ]
    }
   ],
   "source": [
    "first_variable=30\n",
    "print(first_variable)"
   ]
  },
  {
   "cell_type": "code",
   "execution_count": 3,
   "metadata": {},
   "outputs": [
    {
     "name": "stdout",
     "output_type": "stream",
     "text": [
      "Counter({1: 1, 2: 1, 3: 1, 5: 1, 6: 1})\n"
     ]
    }
   ],
   "source": [
    "import collections\n",
    "first_variable=collections.Counter([1,2,3,5,6])\n",
    "print((first_variable))"
   ]
  },
  {
   "cell_type": "code",
   "execution_count": 1,
   "metadata": {},
   "outputs": [
    {
     "name": "stdout",
     "output_type": "stream",
     "text": [
      "Index 0: elma\n",
      "Index 1: armut\n",
      "Index 2: kiraz\n"
     ]
    }
   ],
   "source": [
    "my_list = ['elma', 'armut', 'kiraz']\n",
    "\n",
    "for num, fruit in enumerate(my_list):\n",
    "    print(f\"Index {num}: {fruit}\")\n",
    "#num, enumerate() fonksiyonu ile kullanıldığında, döngü içindeki öğelerin indeksini verir."
   ]
  },
  {
   "cell_type": "code",
   "execution_count": 5,
   "metadata": {},
   "outputs": [
    {
     "name": "stdout",
     "output_type": "stream",
     "text": [
      "10 is greater than 5\n"
     ]
    }
   ],
   "source": [
    "#Boolean\n",
    "first_number=10\n",
    "second_number=5\n",
    "if first_number > second_number:\n",
    "    print(f\"{first_number} is greater than {second_number}\")"
   ]
  },
  {
   "cell_type": "code",
   "execution_count": 23,
   "metadata": {},
   "outputs": [
    {
     "data": {
      "text/plain": [
       "'Unlicenced'"
      ]
     },
     "execution_count": 23,
     "metadata": {},
     "output_type": "execute_result"
    }
   ],
   "source": [
    "test_score=60 # score göre yaptı \n",
    "age=17\n",
    "\n",
    "def driver_status(age,test_score):\n",
    "    if age>=18:\n",
    "        if test_score>= 80:\n",
    "            return\"driver\"\n",
    "        elif 60>test_score>80:\n",
    "            return\"s-driver\"\n",
    "    elif 18> age>= 16:\n",
    "         if test_score>= 80:\n",
    "            return\"intern-driver\"\n",
    "         elif 60>test_score>80:\n",
    "            return\"supervised-intern-driver\"\n",
    "    \n",
    "    return \"Unlicenced\"\n",
    "driver_status(age,test_score)"
   ]
  },
  {
   "cell_type": "code",
   "execution_count": 27,
   "metadata": {},
   "outputs": [
    {
     "data": {
      "text/plain": [
       "'11'"
      ]
     },
     "execution_count": 27,
     "metadata": {},
     "output_type": "execute_result"
    }
   ],
   "source": [
    "def buzz_func(number):\n",
    "    return\"buzz\" if number %2==0 else str(number)\n",
    "my_number=11\n",
    "buzz_func(my_number)"
   ]
  },
  {
   "cell_type": "code",
   "execution_count": 30,
   "metadata": {},
   "outputs": [
    {
     "data": {
      "text/plain": [
       "'ada love acedemy'"
      ]
     },
     "execution_count": 30,
     "metadata": {},
     "output_type": "execute_result"
    }
   ],
   "source": [
    "test_string=\"ada love acedemy!\" # kalıcı değişiklik için tekrar ataa gerek\n",
    "test_string.strip(\"!\")"
   ]
  },
  {
   "cell_type": "code",
   "execution_count": 41,
   "metadata": {},
   "outputs": [
    {
     "name": "stdout",
     "output_type": "stream",
     "text": [
      "0:yellow\n",
      "1:blue\n",
      "2:black\n"
     ]
    }
   ],
   "source": [
    "colors = ['yellow', 'blue', 'black']\n",
    "for index, color in enumerate(colors):\n",
    "    print(f\"{index}:{color}\")"
   ]
  },
  {
   "cell_type": "code",
   "execution_count": 37,
   "metadata": {},
   "outputs": [
    {
     "data": {
      "text/plain": [
       "[1, 8, 27, 64, 125, 216, 343, 512, 729, 1000]"
      ]
     },
     "execution_count": 37,
     "metadata": {},
     "output_type": "execute_result"
    }
   ],
   "source": [
    "cubes_to_1000=[]\n",
    "for i in range(1,11):\n",
    "    cubes_to_1000.append(i**3)\n",
    "cubes_to_1000"
   ]
  },
  {
   "cell_type": "code",
   "execution_count": 42,
   "metadata": {},
   "outputs": [],
   "source": [
    "#veri büyüdükçe set kullanamak kaynak yönetimi bakımndan daha mantıklı"
   ]
  },
  {
   "cell_type": "code",
   "execution_count": 44,
   "metadata": {},
   "outputs": [
    {
     "name": "stdout",
     "output_type": "stream",
     "text": [
      "{'black', 'yellow'}\n"
     ]
    }
   ],
   "source": [
    "my_set={\"ada\"}\n",
    "animal_colors={\n",
    "    \"cat\":\"yellow\",\n",
    "    \"dog\":\"black\"\n",
    "\n",
    "}\n",
    "animal_set=set(animal_colors.values())\n",
    "print(animal_set)"
   ]
  },
  {
   "cell_type": "code",
   "execution_count": 54,
   "metadata": {},
   "outputs": [
    {
     "name": "stdout",
     "output_type": "stream",
     "text": [
      "{81, 9, 36}\n"
     ]
    }
   ],
   "source": [
    "numbers=[1,1,5,6,6,8,3,9]\n",
    "calculated_number={number**2 for number in numbers if number % 3==0}\n",
    "print(calculated_number) #aynısı olanlardan kurtulset"
   ]
  },
  {
   "cell_type": "code",
   "execution_count": 62,
   "metadata": {},
   "outputs": [
    {
     "data": {
      "text/plain": [
       "True"
      ]
     },
     "execution_count": 62,
     "metadata": {},
     "output_type": "execute_result"
    }
   ],
   "source": [
    "birds={\"chiken\",}\n",
    "animal_colors={\n",
    "    \"cat\":\"yellow\",\n",
    "    \"dog\":\"black\"\n",
    "\n",
    "}\n",
    "birds.isdisjoint(animal_colors)#kesisim kontrol"
   ]
  },
  {
   "cell_type": "code",
   "execution_count": 65,
   "metadata": {},
   "outputs": [],
   "source": [
    "class Animal:\n",
    "    isalive=True\n",
    "    age=0  \n"
   ]
  },
  {
   "cell_type": "code",
   "execution_count": 67,
   "metadata": {},
   "outputs": [
    {
     "name": "stdout",
     "output_type": "stream",
     "text": [
      "<__main__.Animal object at 0x00000205549F9850>\n"
     ]
    }
   ],
   "source": [
    "my_cat=Animal()\n",
    "my_cat.isalive #attribute içine paramete almaz\n",
    "print(my_cat)"
   ]
  },
  {
   "cell_type": "code",
   "execution_count": 68,
   "metadata": {},
   "outputs": [],
   "source": [
    "def my_fuction():\n",
    "    \"\"\"\n",
    "    Docccstring can be writtren beforehand\n",
    "    \n",
    "    \"\"\"\n",
    "    pass\n"
   ]
  },
  {
   "cell_type": "code",
   "execution_count": 73,
   "metadata": {},
   "outputs": [],
   "source": [
    "class Cat:\n",
    "    isalive=True\n",
    "    age=0\n",
    "    sound=\"mw\"\n",
    "\n",
    "    def _init_(self,location):#başlanıç metodu\n",
    "        self.location=location.values()\n",
    "    def aged(self):\n",
    "        self.age+=1 # çağırdığımızda çalışan metod\n",
    "\n",
    "    "
   ]
  },
  {
   "cell_type": "code",
   "execution_count": 75,
   "metadata": {},
   "outputs": [
    {
     "ename": "TypeError",
     "evalue": "Cat() takes no arguments",
     "output_type": "error",
     "traceback": [
      "\u001b[1;31m---------------------------------------------------------------------------\u001b[0m",
      "\u001b[1;31mTypeError\u001b[0m                                 Traceback (most recent call last)",
      "\u001b[1;32mc:\\Users\\yldrm\\Desktop\\gayesu\\deneme.ipynb Cell 18\u001b[0m line \u001b[0;36m1\n\u001b[1;32m----> <a href='vscode-notebook-cell:/c%3A/Users/yldrm/Desktop/gayesu/deneme.ipynb#X25sZmlsZQ%3D%3D?line=0'>1</a>\u001b[0m boncuk\u001b[39m=\u001b[39m Cat(location\u001b[39m=\u001b[39m{\u001b[39m\"\u001b[39m\u001b[39mloc\u001b[39m\u001b[39m\"\u001b[39m:\u001b[39m\"\u001b[39m\u001b[39mhome\u001b[39m\u001b[39m\"\u001b[39m})\n\u001b[0;32m      <a href='vscode-notebook-cell:/c%3A/Users/yldrm/Desktop/gayesu/deneme.ipynb#X25sZmlsZQ%3D%3D?line=1'>2</a>\u001b[0m boncuk\u001b[39m.\u001b[39mlocation\n",
      "\u001b[1;31mTypeError\u001b[0m: Cat() takes no arguments"
     ]
    }
   ],
   "source": [
    "boncuk= Cat(location={\"loc\":\"home\"})\n",
    "boncuk.location"
   ]
  },
  {
   "cell_type": "code",
   "execution_count": null,
   "metadata": {},
   "outputs": [],
   "source": []
  }
 ],
 "metadata": {
  "kernelspec": {
   "display_name": "base",
   "language": "python",
   "name": "python3"
  },
  "language_info": {
   "codemirror_mode": {
    "name": "ipython",
    "version": 3
   },
   "file_extension": ".py",
   "mimetype": "text/x-python",
   "name": "python",
   "nbconvert_exporter": "python",
   "pygments_lexer": "ipython3",
   "version": "3.11.5"
  }
 },
 "nbformat": 4,
 "nbformat_minor": 2
}
